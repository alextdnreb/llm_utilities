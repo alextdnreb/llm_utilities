{
 "cells": [
  {
   "cell_type": "code",
   "execution_count": 5,
   "metadata": {},
   "outputs": [
    {
     "data": {
      "application/vnd.jupyter.widget-view+json": {
       "model_id": "45b0a1c91eac4e3495cc2be80c6d8b39",
       "version_major": 2,
       "version_minor": 0
      },
      "text/plain": [
       "Generating train split:   0%|          | 0/454451 [00:00<?, ? examples/s]"
      ]
     },
     "metadata": {},
     "output_type": "display_data"
    },
    {
     "data": {
      "application/vnd.jupyter.widget-view+json": {
       "model_id": "3546d28537b14b989c228a7203f74957",
       "version_major": 2,
       "version_minor": 0
      },
      "text/plain": [
       "Generating test split:   0%|          | 0/26909 [00:00<?, ? examples/s]"
      ]
     },
     "metadata": {},
     "output_type": "display_data"
    },
    {
     "data": {
      "application/vnd.jupyter.widget-view+json": {
       "model_id": "77fe07310a604f419f9276448027bd76",
       "version_major": 2,
       "version_minor": 0
      },
      "text/plain": [
       "Generating validation split:   0%|          | 0/15328 [00:00<?, ? examples/s]"
      ]
     },
     "metadata": {},
     "output_type": "display_data"
    }
   ],
   "source": [
    "import datasets\n",
    "from datasets import load_dataset\n",
    "\n",
    "ds_builder = datasets.load_dataset_builder(\n",
    "    \"code_search_net\", name=\"java\", token=True, cache_dir=\"D:\\\\\", trust_remote_code=True\n",
    ")\n",
    "\n",
    "ds_builder.download_and_prepare(output_dir=\"D:\\\\CSN\")"
   ]
  },
  {
   "cell_type": "code",
   "execution_count": 6,
   "metadata": {},
   "outputs": [
    {
     "data": {
      "application/vnd.jupyter.widget-view+json": {
       "model_id": "de61a731bcb74c92b2e2c51cea4f8e6b",
       "version_major": 2,
       "version_minor": 0
      },
      "text/plain": [
       "Generating train split: 0 examples [00:00, ? examples/s]"
      ]
     },
     "metadata": {},
     "output_type": "display_data"
    },
    {
     "data": {
      "application/vnd.jupyter.widget-view+json": {
       "model_id": "e41667ef16b7449e8406b7654f9ec39a",
       "version_major": 2,
       "version_minor": 0
      },
      "text/plain": [
       "Generating validation split: 0 examples [00:00, ? examples/s]"
      ]
     },
     "metadata": {},
     "output_type": "display_data"
    },
    {
     "data": {
      "application/vnd.jupyter.widget-view+json": {
       "model_id": "e73ea54c54ce4dfdb44b4d4bb9aa6fe3",
       "version_major": 2,
       "version_minor": 0
      },
      "text/plain": [
       "Generating test split: 0 examples [00:00, ? examples/s]"
      ]
     },
     "metadata": {},
     "output_type": "display_data"
    }
   ],
   "source": [
    "dataset = load_dataset(\"D:\\\\CSN\")"
   ]
  },
  {
   "cell_type": "code",
   "execution_count": 13,
   "metadata": {},
   "outputs": [
    {
     "name": "stdout",
     "output_type": "stream",
     "text": [
      "['protected', 'final', 'void', 'fastPathOrderedEmit', '(', 'U', 'value', ',', 'boolean', 'delayError', ',', 'Disposable', 'disposable', ')', '{', 'final', 'Observer', '<', '?', 'super', 'V', '>', 'observer', '=', 'downstream', ';', 'final', 'SimplePlainQueue', '<', 'U', '>', 'q', '=', 'queue', ';', 'if', '(', 'wip', '.', 'get', '(', ')', '==', '0', '&&', 'wip', '.', 'compareAndSet', '(', '0', ',', '1', ')', ')', '{', 'if', '(', 'q', '.', 'isEmpty', '(', ')', ')', '{', 'accept', '(', 'observer', ',', 'value', ')', ';', 'if', '(', 'leave', '(', '-', '1', ')', '==', '0', ')', '{', 'return', ';', '}', '}', 'else', '{', 'q', '.', 'offer', '(', 'value', ')', ';', '}', '}', 'else', '{', 'q', '.', 'offer', '(', 'value', ')', ';', 'if', '(', '!', 'enter', '(', ')', ')', '{', 'return', ';', '}', '}', 'QueueDrainHelper', '.', 'drainLoop', '(', 'q', ',', 'observer', ',', 'delayError', ',', 'disposable', ',', 'this', ')', ';', '}']\n",
      "protected final void fastPathOrderedEmit(U value, boolean delayError, Disposable disposable) {\n",
      "        final Observer<? super V> observer = downstream;\n",
      "        final SimplePlainQueue<U> q = queue;\n",
      "\n",
      "        if (wip.get() == 0 && wip.compareAndSet(0, 1)) {\n",
      "            if (q.isEmpty()) {\n",
      "                accept(observer, value);\n",
      "                if (leave(-1) == 0) {\n",
      "                    return;\n",
      "                }\n",
      "            } else {\n",
      "                q.offer(value);\n",
      "            }\n",
      "        } else {\n",
      "            q.offer(value);\n",
      "            if (!enter()) {\n",
      "                return;\n",
      "            }\n",
      "        }\n",
      "        QueueDrainHelper.drainLoop(q, observer, delayError, disposable, this);\n",
      "    }\n"
     ]
    }
   ],
   "source": [
    "for sample in dataset[\"test\"]:\n",
    "    print(sample[\"func_code_tokens\"])\n",
    "    print(sample[\"func_code_string\"])\n",
    "    break"
   ]
  }
 ],
 "metadata": {
  "kernelspec": {
   "display_name": "venv",
   "language": "python",
   "name": "python3"
  },
  "language_info": {
   "codemirror_mode": {
    "name": "ipython",
    "version": 3
   },
   "file_extension": ".py",
   "mimetype": "text/x-python",
   "name": "python",
   "nbconvert_exporter": "python",
   "pygments_lexer": "ipython3",
   "version": "3.10.8"
  }
 },
 "nbformat": 4,
 "nbformat_minor": 2
}
