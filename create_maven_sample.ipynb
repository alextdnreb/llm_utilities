{
 "cells": [
  {
   "cell_type": "code",
   "execution_count": 3,
   "metadata": {},
   "outputs": [
    {
     "ename": "SyntaxError",
     "evalue": "incomplete input (2230663336.py, line 29)",
     "output_type": "error",
     "traceback": [
      "\u001b[0;36m  Cell \u001b[0;32mIn[3], line 29\u001b[0;36m\u001b[0m\n\u001b[0;31m    # print(f'Failed to retrieve the webpage. Status code: {response.status_code}')\u001b[0m\n\u001b[0m                                                                                   ^\u001b[0m\n\u001b[0;31mSyntaxError\u001b[0m\u001b[0;31m:\u001b[0m incomplete input\n"
     ]
    }
   ],
   "source": [
    "import requests\n",
    "from bs4 import BeautifulSoup\n",
    "\n",
    "# Define the URL you want to crawl\n",
    "url = 'https://repo1.maven.org/maven2/'\n",
    "\n",
    "# Send a GET request to the website\n",
    "response = requests.get(url)\n",
    "\n",
    "# Check if the request was successful\n",
    "if response.status_code == 200:\n",
    "    # Parse the content using BeautifulSoup\n",
    "    soup = BeautifulSoup(response.text, 'html.parser')\n",
    "\n",
    "    # Extract the title of the page\n",
    "    title = soup.title.string\n",
    "    print(f'Title: {title}')\n",
    "\n",
    "    # Extract all paragraphs from the page\n",
    "    paragraphs = soup.find_all('p')\n",
    "    for i, p in enumerate(paragraphs, 1):\n",
    "        print(f'Paragraph {i}: {p.get_text()}')\n",
    "\n",
    "    # Extract all links from the page\n",
    "    links = soup.find_all('a', href=True)\n",
    "    for i, link in enumerate(links, 1):\n",
    "        print(f'Link {i}: {link[\"href\"]} - Text: {link.get_text()}')\n",
    "else:\n",
    "    print(f'Failed to retrieve the webpage. Status code: {response.status_code}')\n"
   ]
  }
 ],
 "metadata": {
  "kernelspec": {
   "display_name": "Python 3",
   "language": "python",
   "name": "python3"
  },
  "language_info": {
   "codemirror_mode": {
    "name": "ipython",
    "version": 3
   },
   "file_extension": ".py",
   "mimetype": "text/x-python",
   "name": "python",
   "nbconvert_exporter": "python",
   "pygments_lexer": "ipython3",
   "version": "3.12.4"
  }
 },
 "nbformat": 4,
 "nbformat_minor": 2
}
