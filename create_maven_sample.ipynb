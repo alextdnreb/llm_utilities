{
 "cells": [
  {
   "cell_type": "code",
   "execution_count": 22,
   "metadata": {},
   "outputs": [
    {
     "name": "stdout",
     "output_type": "stream",
     "text": [
      "\n"
     ]
    }
   ],
   "source": [
    "import requests\n",
    "from bs4 import BeautifulSoup\n",
    "import re \n",
    "import random\n",
    "\n",
    "original_url = 'https://repo1.maven.org/maven2/'\n",
    "\n",
    "response = requests.get(original_url)\n",
    "\n",
    "# version folder pattern\n",
    "pattern = r'^\\d+\\.\\d+(\\.\\d+)?(-[a-zA-Z0-9]+)?$'\n",
    "\n",
    "\n",
    "def traverse_folders(url):\n",
    "    response = requests.get(url)\n",
    "    if response.status_code != 200:\n",
    "        raise Exception\n",
    "    \n",
    "    current_result = traverse_links(response)\n",
    "    if current_result[1]:\n",
    "        # version folder has been reached, check for classifier\n",
    "        response = requests.get(f\"{url}{current_result[0]}\")\n",
    "        soup = BeautifulSoup(response.text, 'html.parser')\n",
    "        links = soup.find_all('a', href=True)\n",
    "        for i, link in enumerate(links, 1):\n",
    "            if \"sources\" in link.get_text():\n",
    "                return f\"{url}{current_result[0]}sources\".replace(original_url, \"\")\n",
    "        return f'{url}{current_result[0][:-1]}:\" \"'.replace(original_url, \"\")\n",
    "    return traverse_folders(f\"{url}{current_result[0]}\")\n",
    "\n",
    "def traverse_links(response):\n",
    "    soup = BeautifulSoup(response.text, 'html.parser')\n",
    "    links = soup.find_all('a', href=True)\n",
    "    link = list(links)[random.randrange(1, len(links))]\n",
    "\n",
    "    while link.get_text() == \"../\":\n",
    "        link = list(links)[random.randrange(1, len(links))]\n",
    "\n",
    "    result = re.match(pattern, link.get_text().replace(\"/\", \"\"))\n",
    "    if result:\n",
    "        # version folders was found\n",
    "        return (link.get_text(), True)\n",
    "    else:\n",
    "        print(\"No version found\")\n",
    "        print(link.get_text())\n",
    "        return (link.get_text(), False)\n",
    "\n",
    "def replace_last_two_slashes(s):\n",
    "    parts = s.rsplit('/', 2)\n",
    "    \n",
    "    return ':'.join(parts)\n",
    "print()"
   ]
  },
  {
   "cell_type": "code",
   "execution_count": 24,
   "metadata": {},
   "outputs": [
    {
     "name": "stdout",
     "output_type": "stream",
     "text": [
      "No version found\n",
      "ognl/\n",
      "No version found\n",
      "ognl/\n",
      "java -Dartifacts=ognl/ognl:3.0.8:sources -Dindexer.work.path=lasso_crawler -Dbatch.maven.repo.url=http://localhost:8081/repository/maven-public/ -Dlasso.indexer.worker.threads=1 -jar /Users/alexanderberndt/Documents/lasso/crawler/target/crawler-1.0.0-SNAPSHOT.jar\n"
     ]
    }
   ],
   "source": [
    "import subprocess\n",
    "import os\n",
    "\n",
    "# Define the command as a list of strings\n",
    "command = [\n",
    "    \"java\",\n",
    "    f\"-Dartifacts={replace_last_two_slashes(traverse_folders(original_url))}\",\n",
    "    \"-Dindexer.work.path=lasso_crawler\",\n",
    "    \"-Dbatch.maven.repo.url=http://localhost:8081/repository/maven-public/\",\n",
    "    \"-Dlasso.indexer.worker.threads=1\",\n",
    "    \"-jar\", \"/Users/alexanderberndt/Documents/lasso/crawler/target/crawler-1.0.0-SNAPSHOT.jar\"\n",
    "]\n",
    "print(\" \".join(command))"
   ]
  },
  {
   "cell_type": "code",
   "execution_count": null,
   "metadata": {},
   "outputs": [],
   "source": [
    "print(\"Output:\", result.stdout)\n",
    "print(\"Error:\", result.stderr)"
   ]
  }
 ],
 "metadata": {
  "kernelspec": {
   "display_name": "Python 3",
   "language": "python",
   "name": "python3"
  },
  "language_info": {
   "codemirror_mode": {
    "name": "ipython",
    "version": 3
   },
   "file_extension": ".py",
   "mimetype": "text/x-python",
   "name": "python",
   "nbconvert_exporter": "python",
   "pygments_lexer": "ipython3",
   "version": "3.12.4"
  }
 },
 "nbformat": 4,
 "nbformat_minor": 2
}
